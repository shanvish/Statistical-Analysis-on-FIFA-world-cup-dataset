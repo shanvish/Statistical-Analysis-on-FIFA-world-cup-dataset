{
 "cells": [
  {
   "cell_type": "markdown",
   "id": "c8da5096",
   "metadata": {},
   "source": [
    "# Statistics For Machine Learning Mini Project"
   ]
  },
  {
   "cell_type": "code",
   "execution_count": 1,
   "id": "589e8f04",
   "metadata": {},
   "outputs": [],
   "source": [
    "import numpy as np\n",
    "import pandas as pd\n",
    "import matplotlib.pyplot as plt\n",
    "import seaborn as sns\n",
    "import scipy.stats as st\n",
    "import warnings\n",
    "warnings.filterwarnings('ignore')\n",
    "import random\n",
    "from scipy.stats import shapiro, levene\n",
    "from statsmodels.stats import weightstats as stests\n",
    "import statsmodels.api as sm\n",
    "import statistics"
   ]
  },
  {
   "cell_type": "markdown",
   "id": "3256d25a",
   "metadata": {},
   "source": [
    "## 1. Perform the following statistical analysis on the fifa world cup dataset. The dataset  consists of player information which includes height , weight overall rating , potential etc. Data Cleaning and basic EDA process need to be performed."
   ]
  },
  {
   "cell_type": "code",
   "execution_count": 2,
   "id": "8962f17e",
   "metadata": {},
   "outputs": [
    {
     "data": {
      "text/html": [
       "<div>\n",
       "<style scoped>\n",
       "    .dataframe tbody tr th:only-of-type {\n",
       "        vertical-align: middle;\n",
       "    }\n",
       "\n",
       "    .dataframe tbody tr th {\n",
       "        vertical-align: top;\n",
       "    }\n",
       "\n",
       "    .dataframe thead th {\n",
       "        text-align: right;\n",
       "    }\n",
       "</style>\n",
       "<table border=\"1\" class=\"dataframe\">\n",
       "  <thead>\n",
       "    <tr style=\"text-align: right;\">\n",
       "      <th></th>\n",
       "      <th>Name</th>\n",
       "      <th>Age</th>\n",
       "      <th>Nationality</th>\n",
       "      <th>Overall_rating</th>\n",
       "      <th>Potential</th>\n",
       "      <th>Club</th>\n",
       "      <th>Preferred Foot</th>\n",
       "      <th>International Reputation</th>\n",
       "      <th>Weak Foot</th>\n",
       "      <th>Skill Moves</th>\n",
       "      <th>Work Rate</th>\n",
       "      <th>Position</th>\n",
       "      <th>Jersey Number</th>\n",
       "      <th>Height</th>\n",
       "      <th>Weight</th>\n",
       "    </tr>\n",
       "  </thead>\n",
       "  <tbody>\n",
       "    <tr>\n",
       "      <th>0</th>\n",
       "      <td>L. Messi</td>\n",
       "      <td>31</td>\n",
       "      <td>Argentina</td>\n",
       "      <td>94</td>\n",
       "      <td>94</td>\n",
       "      <td>FC Barcelona</td>\n",
       "      <td>Left</td>\n",
       "      <td>5</td>\n",
       "      <td>4</td>\n",
       "      <td>4</td>\n",
       "      <td>Medium/ Medium</td>\n",
       "      <td>RF</td>\n",
       "      <td>10</td>\n",
       "      <td>5.583333</td>\n",
       "      <td>159</td>\n",
       "    </tr>\n",
       "    <tr>\n",
       "      <th>1</th>\n",
       "      <td>Cristiano Ronaldo</td>\n",
       "      <td>33</td>\n",
       "      <td>Portugal</td>\n",
       "      <td>94</td>\n",
       "      <td>94</td>\n",
       "      <td>Juventus</td>\n",
       "      <td>Right</td>\n",
       "      <td>5</td>\n",
       "      <td>4</td>\n",
       "      <td>5</td>\n",
       "      <td>High/ Low</td>\n",
       "      <td>ST</td>\n",
       "      <td>7</td>\n",
       "      <td>6.166667</td>\n",
       "      <td>183</td>\n",
       "    </tr>\n",
       "    <tr>\n",
       "      <th>2</th>\n",
       "      <td>Neymar Jr</td>\n",
       "      <td>26</td>\n",
       "      <td>Brazil</td>\n",
       "      <td>92</td>\n",
       "      <td>93</td>\n",
       "      <td>Paris Saint-Germain</td>\n",
       "      <td>Right</td>\n",
       "      <td>5</td>\n",
       "      <td>5</td>\n",
       "      <td>5</td>\n",
       "      <td>High/ Medium</td>\n",
       "      <td>LW</td>\n",
       "      <td>10</td>\n",
       "      <td>5.750000</td>\n",
       "      <td>150</td>\n",
       "    </tr>\n",
       "    <tr>\n",
       "      <th>3</th>\n",
       "      <td>De Gea</td>\n",
       "      <td>27</td>\n",
       "      <td>Spain</td>\n",
       "      <td>91</td>\n",
       "      <td>93</td>\n",
       "      <td>Manchester United</td>\n",
       "      <td>Right</td>\n",
       "      <td>4</td>\n",
       "      <td>3</td>\n",
       "      <td>1</td>\n",
       "      <td>Medium/ Medium</td>\n",
       "      <td>GK</td>\n",
       "      <td>1</td>\n",
       "      <td>6.333333</td>\n",
       "      <td>168</td>\n",
       "    </tr>\n",
       "    <tr>\n",
       "      <th>4</th>\n",
       "      <td>K. De Bruyne</td>\n",
       "      <td>27</td>\n",
       "      <td>Belgium</td>\n",
       "      <td>91</td>\n",
       "      <td>92</td>\n",
       "      <td>Manchester City</td>\n",
       "      <td>Right</td>\n",
       "      <td>4</td>\n",
       "      <td>5</td>\n",
       "      <td>4</td>\n",
       "      <td>High/ High</td>\n",
       "      <td>RCM</td>\n",
       "      <td>7</td>\n",
       "      <td>5.083333</td>\n",
       "      <td>154</td>\n",
       "    </tr>\n",
       "  </tbody>\n",
       "</table>\n",
       "</div>"
      ],
      "text/plain": [
       "                Name  Age Nationality  Overall_rating  Potential  \\\n",
       "0           L. Messi   31   Argentina              94         94   \n",
       "1  Cristiano Ronaldo   33    Portugal              94         94   \n",
       "2          Neymar Jr   26      Brazil              92         93   \n",
       "3             De Gea   27       Spain              91         93   \n",
       "4       K. De Bruyne   27     Belgium              91         92   \n",
       "\n",
       "                  Club Preferred Foot  International Reputation  Weak Foot  \\\n",
       "0         FC Barcelona           Left                         5          4   \n",
       "1             Juventus          Right                         5          4   \n",
       "2  Paris Saint-Germain          Right                         5          5   \n",
       "3    Manchester United          Right                         4          3   \n",
       "4      Manchester City          Right                         4          5   \n",
       "\n",
       "   Skill Moves       Work Rate Position  Jersey Number    Height  Weight  \n",
       "0            4  Medium/ Medium       RF             10  5.583333     159  \n",
       "1            5       High/ Low       ST              7  6.166667     183  \n",
       "2            5    High/ Medium       LW             10  5.750000     150  \n",
       "3            1  Medium/ Medium       GK              1  6.333333     168  \n",
       "4            4      High/ High      RCM              7  5.083333     154  "
      ]
     },
     "execution_count": 2,
     "metadata": {},
     "output_type": "execute_result"
    }
   ],
   "source": [
    "data = pd.read_csv('fifa_stats.csv')\n",
    "data.head()"
   ]
  },
  {
   "cell_type": "markdown",
   "id": "eb5931b6",
   "metadata": {},
   "source": [
    "### a) Assuming age as population, perform the central limit theorem with sample size of 200. Find the standard error and the mean of sampling distribution. Compare the results with population mean and standard deviation. Explain in non-technical terms why the estimated standard error of a sample mean tends to decrease with an increase in sample size."
   ]
  },
  {
   "cell_type": "code",
   "execution_count": 3,
   "id": "fa3eb145",
   "metadata": {},
   "outputs": [
    {
     "name": "stdout",
     "output_type": "stream",
     "text": [
      "Sample Mean :  27.2315\n",
      "Standard Deviation :  3.8580963894127795\n",
      "Standard Error :  0.2728086119425111\n"
     ]
    }
   ],
   "source": [
    "n = 200\n",
    "sam_mean = np.mean(data.Age)\n",
    "sigma = np.std(data.Age)\n",
    "std_error = sigma/np.sqrt(n)\n",
    "print(\"Sample Mean : \" , sam_mean)\n",
    "print(\"Standard Deviation : \" , sigma)\n",
    "print(\"Standard Error : \" , std_error)"
   ]
  },
  {
   "cell_type": "code",
   "execution_count": 4,
   "id": "e3ef006b",
   "metadata": {},
   "outputs": [
    {
     "data": {
      "text/plain": [
       "Age                          27.231500\n",
       "Overall_rating               78.197000\n",
       "Potential                    80.303500\n",
       "International Reputation      1.774500\n",
       "Weak Foot                     3.204000\n",
       "Skill Moves                   2.919500\n",
       "Jersey Number                15.205500\n",
       "Height                        5.781042\n",
       "Weight                      169.478000\n",
       "dtype: float64"
      ]
     },
     "execution_count": 4,
     "metadata": {},
     "output_type": "execute_result"
    }
   ],
   "source": [
    "pop_mean = np.mean(data)\n",
    "pop_mean"
   ]
  },
  {
   "cell_type": "code",
   "execution_count": 5,
   "id": "505fa6c7",
   "metadata": {},
   "outputs": [
    {
     "data": {
      "text/plain": [
       "2000.0"
      ]
     },
     "execution_count": 5,
     "metadata": {},
     "output_type": "execute_result"
    }
   ],
   "source": [
    "pe = np.mean(len(data))\n",
    "pe"
   ]
  },
  {
   "cell_type": "code",
   "execution_count": 6,
   "id": "69a1c056",
   "metadata": {},
   "outputs": [
    {
     "data": {
      "text/plain": [
       "Age                         1972.768500\n",
       "Overall_rating              1921.803000\n",
       "Potential                   1919.696500\n",
       "International Reputation    1998.225500\n",
       "Weak Foot                   1996.796000\n",
       "Skill Moves                 1997.080500\n",
       "Jersey Number               1984.794500\n",
       "Height                      1994.218958\n",
       "Weight                      1830.522000\n",
       "dtype: float64"
      ]
     },
     "execution_count": 6,
     "metadata": {},
     "output_type": "execute_result"
    }
   ],
   "source": [
    "sam_error = abs(pop_mean - pe)\n",
    "sam_error"
   ]
  },
  {
   "cell_type": "code",
   "execution_count": 7,
   "id": "fa84436a",
   "metadata": {},
   "outputs": [],
   "source": [
    "# As the sample size n, gets larger and larger, the sample means tend to follow a normal distribution which eventually tends to cluster around the true population mean"
   ]
  },
  {
   "cell_type": "markdown",
   "id": "1d425dac",
   "metadata": {},
   "source": [
    "### b) Is there any evidence that the players overall rating is greater than 80?"
   ]
  },
  {
   "cell_type": "code",
   "execution_count": 8,
   "id": "b09e1e07",
   "metadata": {},
   "outputs": [
    {
     "data": {
      "text/plain": [
       "78.197"
      ]
     },
     "execution_count": 8,
     "metadata": {},
     "output_type": "execute_result"
    }
   ],
   "source": [
    "np.mean(data.Overall_rating)"
   ]
  },
  {
   "cell_type": "code",
   "execution_count": 9,
   "id": "a543e768",
   "metadata": {},
   "outputs": [],
   "source": [
    "# No there is no evidence that players overall rating is greater than 80."
   ]
  },
  {
   "cell_type": "markdown",
   "id": "0f80e85d",
   "metadata": {},
   "source": [
    "### c) Perform the statistical test to identify whether preferred foot has any impact on potential. Also perform the graphical analysis."
   ]
  },
  {
   "cell_type": "code",
   "execution_count": 10,
   "id": "18988a68",
   "metadata": {},
   "outputs": [
    {
     "data": {
      "text/plain": [
       "Right    1534\n",
       "Left      466\n",
       "Name: Preferred Foot, dtype: int64"
      ]
     },
     "execution_count": 10,
     "metadata": {},
     "output_type": "execute_result"
    }
   ],
   "source": [
    "data['Preferred Foot'].value_counts() #cateogrical "
   ]
  },
  {
   "cell_type": "code",
   "execution_count": 11,
   "id": "a416d52a",
   "metadata": {},
   "outputs": [
    {
     "data": {
      "text/plain": [
       "80.3035"
      ]
     },
     "execution_count": 11,
     "metadata": {},
     "output_type": "execute_result"
    }
   ],
   "source": [
    "data['Potential'].mean()"
   ]
  },
  {
   "cell_type": "code",
   "execution_count": 12,
   "id": "3b075729",
   "metadata": {},
   "outputs": [
    {
     "data": {
      "text/plain": [
       "3.8475318999808428"
      ]
     },
     "execution_count": 12,
     "metadata": {},
     "output_type": "execute_result"
    }
   ],
   "source": [
    "crit_f= st.f.isf(0.05, dfn=1,dfd=1533)\n",
    "crit_f"
   ]
  },
  {
   "cell_type": "code",
   "execution_count": 13,
   "id": "631602e8",
   "metadata": {},
   "outputs": [
    {
     "data": {
      "text/plain": [
       "2.3648403497065615"
      ]
     },
     "execution_count": 13,
     "metadata": {},
     "output_type": "execute_result"
    }
   ],
   "source": [
    "test_stat, pvalue= st.f_oneway(data[data['Preferred Foot']=='Right']['Potential'],\n",
    "                                 data[data['Preferred Foot']=='Left']['Potential'])\n",
    "test_stat"
   ]
  },
  {
   "cell_type": "code",
   "execution_count": 14,
   "id": "90a5dfec",
   "metadata": {},
   "outputs": [],
   "source": [
    "# test_stat<crit_f, we fail to reject the null"
   ]
  },
  {
   "cell_type": "code",
   "execution_count": 15,
   "id": "1321074f",
   "metadata": {},
   "outputs": [
    {
     "data": {
      "image/png": "[encoded data removed]",
      "text/plain": [
       "<Figure size 432x288 with 1 Axes>"
      ]
     },
     "metadata": {
      "needs_background": "light"
     },
     "output_type": "display_data"
    }
   ],
   "source": [
    "data.groupby('Preferred Foot')['Potential'].mean().plot(kind='bar')\n",
    "plt.show()"
   ]
  },
  {
   "cell_type": "code",
   "execution_count": 16,
   "id": "1bff5410",
   "metadata": {},
   "outputs": [],
   "source": [
    "# Accordimg to graphical representation we can say that preferred foot does not any impact on potential."
   ]
  },
  {
   "cell_type": "markdown",
   "id": "b7dd1ac0",
   "metadata": {},
   "source": [
    "### d) Perform the statistical test to identify relation between the overall rating and potential. [Assume both are continuous data points]."
   ]
  },
  {
   "cell_type": "code",
   "execution_count": 17,
   "id": "2b6b76e7",
   "metadata": {},
   "outputs": [],
   "source": [
    "n_1= len('Overall_rating')\n",
    "n_2= len('Potential')\n",
    "\n",
    "df= (n_1+n_2)-2"
   ]
  },
  {
   "cell_type": "code",
   "execution_count": 18,
   "id": "f17843c2",
   "metadata": {},
   "outputs": [
    {
     "data": {
      "text/plain": [
       "21"
      ]
     },
     "execution_count": 18,
     "metadata": {},
     "output_type": "execute_result"
    }
   ],
   "source": [
    "df"
   ]
  },
  {
   "cell_type": "code",
   "execution_count": 19,
   "id": "eb090396",
   "metadata": {},
   "outputs": [],
   "source": [
    "time= data.Overall_rating + data.Potential"
   ]
  },
  {
   "cell_type": "code",
   "execution_count": 20,
   "id": "6a0744ae",
   "metadata": {},
   "outputs": [
    {
     "data": {
      "text/plain": [
       "3.8701190776246645e-31"
      ]
     },
     "execution_count": 20,
     "metadata": {},
     "output_type": "execute_result"
    }
   ],
   "source": [
    "stat,pvalue=shapiro(time)\n",
    "pvalue"
   ]
  },
  {
   "cell_type": "code",
   "execution_count": 21,
   "id": "4ae9643d",
   "metadata": {},
   "outputs": [
    {
     "data": {
      "text/plain": [
       "3.4406841059319607e-32"
      ]
     },
     "execution_count": 21,
     "metadata": {},
     "output_type": "execute_result"
    }
   ],
   "source": [
    "stat,pvalue= levene(data.Overall_rating, data.Potential)\n",
    "pvalue"
   ]
  },
  {
   "cell_type": "code",
   "execution_count": 22,
   "id": "6e753640",
   "metadata": {},
   "outputs": [
    {
     "data": {
      "text/plain": [
       "(-17.89175319557915, 3.120802155468191e-69)"
      ]
     },
     "execution_count": 22,
     "metadata": {},
     "output_type": "execute_result"
    }
   ],
   "source": [
    "tstat, pvalue= st.ttest_ind(data.Overall_rating,data.Potential) \n",
    "# by default its given a two sided pvalue, so for one tail test, we need to divide the pvalue by 2\n",
    "\n",
    "tstat,pvalue/2"
   ]
  },
  {
   "cell_type": "code",
   "execution_count": 23,
   "id": "08efff40",
   "metadata": {},
   "outputs": [
    {
     "data": {
      "text/plain": [
       "-1.3231878738651726"
      ]
     },
     "execution_count": 23,
     "metadata": {},
     "output_type": "execute_result"
    }
   ],
   "source": [
    "t_crit= st.t.ppf(0.1, df=21)\n",
    "t_crit"
   ]
  },
  {
   "cell_type": "code",
   "execution_count": 24,
   "id": "4afa1367",
   "metadata": {},
   "outputs": [],
   "source": [
    "# pvalue approach 0.006<0.10 (alpha inferred from the question), reject the null\n",
    "# tstat < t_crit, reject the null"
   ]
  },
  {
   "cell_type": "markdown",
   "id": "c649e26c",
   "metadata": {},
   "source": [
    "### e) Does skill move have any effect in overall rating. Perform the graphical analysis and the statistical analysis."
   ]
  },
  {
   "cell_type": "code",
   "execution_count": 27,
   "id": "02d25e55",
   "metadata": {},
   "outputs": [
    {
     "data": {
      "image/png": "[encoded data removed]",
      "text/plain": [
       "<Figure size 432x288 with 1 Axes>"
      ]
     },
     "metadata": {
      "needs_background": "light"
     },
     "output_type": "display_data"
    }
   ],
   "source": [
    "data.groupby('Skill Moves')['Overall_rating'].mean().plot(marker = '*' , markersize = 12)\n",
    "plt.show()"
   ]
  },
  {
   "cell_type": "markdown",
   "id": "8c598181",
   "metadata": {},
   "source": [
    "#### Note : \n",
    "#### 1) Perform all the statistical analysis with 5%(Significance Level).\n",
    "#### 2) Perform the test of normality and test of variance in the appropriate places."
   ]
  },
  {
   "cell_type": "markdown",
   "id": "6ec73e35",
   "metadata": {},
   "source": [
    "## 2. Perform the following statistical analysis on the mobile network dataset given. The given dataset contais information about the internet , calls , messages of various network.Data Cleaning and basic EDA process need to be performed."
   ]
  },
  {
   "cell_type": "code",
   "execution_count": 28,
   "id": "dc44e062",
   "metadata": {},
   "outputs": [
    {
     "data": {
      "text/html": [
       "<div>\n",
       "<style scoped>\n",
       "    .dataframe tbody tr th:only-of-type {\n",
       "        vertical-align: middle;\n",
       "    }\n",
       "\n",
       "    .dataframe tbody tr th {\n",
       "        vertical-align: top;\n",
       "    }\n",
       "\n",
       "    .dataframe thead th {\n",
       "        text-align: right;\n",
       "    }\n",
       "</style>\n",
       "<table border=\"1\" class=\"dataframe\">\n",
       "  <thead>\n",
       "    <tr style=\"text-align: right;\">\n",
       "      <th></th>\n",
       "      <th>date</th>\n",
       "      <th>duration</th>\n",
       "      <th>item</th>\n",
       "      <th>month</th>\n",
       "      <th>network</th>\n",
       "      <th>network_type</th>\n",
       "    </tr>\n",
       "  </thead>\n",
       "  <tbody>\n",
       "    <tr>\n",
       "      <th>0</th>\n",
       "      <td>15-10-14 6:58</td>\n",
       "      <td>221.321120</td>\n",
       "      <td>data</td>\n",
       "      <td>2014-11</td>\n",
       "      <td>data</td>\n",
       "      <td>data</td>\n",
       "    </tr>\n",
       "    <tr>\n",
       "      <th>1</th>\n",
       "      <td>15-10-14 6:58</td>\n",
       "      <td>81.610599</td>\n",
       "      <td>call</td>\n",
       "      <td>2014-11</td>\n",
       "      <td>Vodafone</td>\n",
       "      <td>mobile</td>\n",
       "    </tr>\n",
       "    <tr>\n",
       "      <th>2</th>\n",
       "      <td>15-10-14 14:46</td>\n",
       "      <td>143.109111</td>\n",
       "      <td>call</td>\n",
       "      <td>2014-11</td>\n",
       "      <td>Meteor</td>\n",
       "      <td>mobile</td>\n",
       "    </tr>\n",
       "    <tr>\n",
       "      <th>3</th>\n",
       "      <td>15-10-14 14:48</td>\n",
       "      <td>111.888670</td>\n",
       "      <td>call</td>\n",
       "      <td>2014-11</td>\n",
       "      <td>Tesco</td>\n",
       "      <td>mobile</td>\n",
       "    </tr>\n",
       "    <tr>\n",
       "      <th>4</th>\n",
       "      <td>15-10-14 17:27</td>\n",
       "      <td>246.695171</td>\n",
       "      <td>call</td>\n",
       "      <td>2014-11</td>\n",
       "      <td>Tesco</td>\n",
       "      <td>mobile</td>\n",
       "    </tr>\n",
       "  </tbody>\n",
       "</table>\n",
       "</div>"
      ],
      "text/plain": [
       "             date    duration  item    month   network network_type\n",
       "0   15-10-14 6:58  221.321120  data  2014-11      data         data\n",
       "1   15-10-14 6:58   81.610599  call  2014-11  Vodafone       mobile\n",
       "2  15-10-14 14:46  143.109111  call  2014-11    Meteor       mobile\n",
       "3  15-10-14 14:48  111.888670  call  2014-11     Tesco       mobile\n",
       "4  15-10-14 17:27  246.695171  call  2014-11     Tesco       mobile"
      ]
     },
     "execution_count": 28,
     "metadata": {},
     "output_type": "execute_result"
    }
   ],
   "source": [
    "df = pd.read_csv('phone.csv')\n",
    "df.head()"
   ]
  },
  {
   "cell_type": "markdown",
   "id": "19e9265f",
   "metadata": {},
   "source": [
    "### a) With 95% & 99% Confidence Interval find the range estimate of average duration calls made by all the network. Which of the intervals are wider? Interpret the results."
   ]
  },
  {
   "cell_type": "code",
   "execution_count": 29,
   "id": "31b27224",
   "metadata": {},
   "outputs": [],
   "source": [
    "n = len(df)\n",
    "sam_mean = np.mean(df.duration)\n",
    "sigma = np.std(df.duration)\n",
    "alpha = (1-0.95)/2"
   ]
  },
  {
   "cell_type": "code",
   "execution_count": 30,
   "id": "700c2e7f",
   "metadata": {},
   "outputs": [],
   "source": [
    "zalphaby2 = st.norm.isf(alpha)"
   ]
  },
  {
   "cell_type": "code",
   "execution_count": 31,
   "id": "7a9b58f3",
   "metadata": {},
   "outputs": [],
   "source": [
    "me = zalphaby2 * (sigma/np.sqrt(n))"
   ]
  },
  {
   "cell_type": "code",
   "execution_count": 32,
   "id": "bab6512f",
   "metadata": {},
   "outputs": [
    {
     "name": "stdout",
     "output_type": "stream",
     "text": [
      "At 95% CI the average duration calls made by all the network is  147.4301 141.1797\n"
     ]
    }
   ],
   "source": [
    "print(\"At 95% CI the average duration calls made by all the network is \" , np.round(sam_mean + me , 4) , np.round(sam_mean - me , 4))"
   ]
  },
  {
   "cell_type": "code",
   "execution_count": 33,
   "id": "88763a02",
   "metadata": {},
   "outputs": [],
   "source": [
    "n = len(df)\n",
    "sam_mean = np.mean(df.duration)\n",
    "sigma = np.std(df.duration)\n",
    "alpha = (1-0.99)/2"
   ]
  },
  {
   "cell_type": "code",
   "execution_count": 34,
   "id": "5b9c6ff0",
   "metadata": {},
   "outputs": [],
   "source": [
    "zalphaby2 = st.norm.isf(alpha)"
   ]
  },
  {
   "cell_type": "code",
   "execution_count": 35,
   "id": "ce4c3db4",
   "metadata": {},
   "outputs": [],
   "source": [
    "me = zalphaby2 * (sigma/np.sqrt(n))"
   ]
  },
  {
   "cell_type": "code",
   "execution_count": 36,
   "id": "7ebb2a73",
   "metadata": {},
   "outputs": [
    {
     "name": "stdout",
     "output_type": "stream",
     "text": [
      "At 99% CI the average duration calls made by all the network is  148.4121 140.1977\n"
     ]
    }
   ],
   "source": [
    "print(\"At 99% CI the average duration calls made by all the network is \" , np.round(sam_mean + me , 4) , np.round(sam_mean - me , 4))"
   ]
  },
  {
   "cell_type": "markdown",
   "id": "5b50231c",
   "metadata": {},
   "source": [
    "### b) Perform statistical analysis to check whether the networks are equally distributed in the dataset."
   ]
  },
  {
   "cell_type": "code",
   "execution_count": 37,
   "id": "53025b8d",
   "metadata": {},
   "outputs": [
    {
     "data": {
      "text/plain": [
       "Vodafone     215\n",
       "Three        215\n",
       "data         150\n",
       "Meteor        87\n",
       "Tesco         84\n",
       "landline      42\n",
       "voicemail     27\n",
       "Name: network, dtype: int64"
      ]
     },
     "execution_count": 37,
     "metadata": {},
     "output_type": "execute_result"
    }
   ],
   "source": [
    "df['network'].value_counts() #cateogrical "
   ]
  },
  {
   "cell_type": "code",
   "execution_count": 38,
   "id": "a1724267",
   "metadata": {},
   "outputs": [
    {
     "data": {
      "image/png": "[encoded data removed]",
      "text/plain": [
       "<Figure size 432x288 with 1 Axes>"
      ]
     },
     "metadata": {
      "needs_background": "light"
     },
     "output_type": "display_data"
    }
   ],
   "source": [
    "sns.countplot(data = df , x = 'network')\n",
    "plt.show()"
   ]
  },
  {
   "cell_type": "code",
   "execution_count": 39,
   "id": "a5f4df5c",
   "metadata": {},
   "outputs": [],
   "source": [
    "# Networks are not equally distributed."
   ]
  },
  {
   "cell_type": "markdown",
   "id": "ed0ac202",
   "metadata": {},
   "source": [
    "### c) Plot the distribution of duration with respect to each network in the same graph and Interpret the results from the graph."
   ]
  },
  {
   "cell_type": "code",
   "execution_count": 40,
   "id": "a7d7e1e5",
   "metadata": {},
   "outputs": [
    {
     "data": {
      "text/html": [
       "<div>\n",
       "<style scoped>\n",
       "    .dataframe tbody tr th:only-of-type {\n",
       "        vertical-align: middle;\n",
       "    }\n",
       "\n",
       "    .dataframe tbody tr th {\n",
       "        vertical-align: top;\n",
       "    }\n",
       "\n",
       "    .dataframe thead th {\n",
       "        text-align: right;\n",
       "    }\n",
       "</style>\n",
       "<table border=\"1\" class=\"dataframe\">\n",
       "  <thead>\n",
       "    <tr style=\"text-align: right;\">\n",
       "      <th></th>\n",
       "      <th>count</th>\n",
       "      <th>mean</th>\n",
       "      <th>std</th>\n",
       "      <th>min</th>\n",
       "      <th>25%</th>\n",
       "      <th>50%</th>\n",
       "      <th>75%</th>\n",
       "      <th>max</th>\n",
       "    </tr>\n",
       "    <tr>\n",
       "      <th>network</th>\n",
       "      <th></th>\n",
       "      <th></th>\n",
       "      <th></th>\n",
       "      <th></th>\n",
       "      <th></th>\n",
       "      <th></th>\n",
       "      <th></th>\n",
       "      <th></th>\n",
       "    </tr>\n",
       "  </thead>\n",
       "  <tbody>\n",
       "    <tr>\n",
       "      <th>Meteor</th>\n",
       "      <td>87.0</td>\n",
       "      <td>139.757012</td>\n",
       "      <td>46.886445</td>\n",
       "      <td>21.456720</td>\n",
       "      <td>110.748469</td>\n",
       "      <td>134.089250</td>\n",
       "      <td>173.984727</td>\n",
       "      <td>249.265924</td>\n",
       "    </tr>\n",
       "    <tr>\n",
       "      <th>Tesco</th>\n",
       "      <td>84.0</td>\n",
       "      <td>145.287504</td>\n",
       "      <td>47.187879</td>\n",
       "      <td>42.387325</td>\n",
       "      <td>112.281929</td>\n",
       "      <td>146.733204</td>\n",
       "      <td>177.504493</td>\n",
       "      <td>268.443922</td>\n",
       "    </tr>\n",
       "    <tr>\n",
       "      <th>Three</th>\n",
       "      <td>215.0</td>\n",
       "      <td>141.457941</td>\n",
       "      <td>44.744397</td>\n",
       "      <td>14.173899</td>\n",
       "      <td>111.054649</td>\n",
       "      <td>142.534191</td>\n",
       "      <td>173.638137</td>\n",
       "      <td>260.813244</td>\n",
       "    </tr>\n",
       "    <tr>\n",
       "      <th>Vodafone</th>\n",
       "      <td>215.0</td>\n",
       "      <td>149.606272</td>\n",
       "      <td>46.912294</td>\n",
       "      <td>43.247843</td>\n",
       "      <td>111.652249</td>\n",
       "      <td>149.709940</td>\n",
       "      <td>183.478712</td>\n",
       "      <td>268.343460</td>\n",
       "    </tr>\n",
       "    <tr>\n",
       "      <th>data</th>\n",
       "      <td>150.0</td>\n",
       "      <td>140.968643</td>\n",
       "      <td>41.417421</td>\n",
       "      <td>0.993514</td>\n",
       "      <td>119.070227</td>\n",
       "      <td>143.303965</td>\n",
       "      <td>166.027534</td>\n",
       "      <td>268.458090</td>\n",
       "    </tr>\n",
       "    <tr>\n",
       "      <th>landline</th>\n",
       "      <td>42.0</td>\n",
       "      <td>141.617641</td>\n",
       "      <td>46.278411</td>\n",
       "      <td>36.796316</td>\n",
       "      <td>116.794170</td>\n",
       "      <td>131.949186</td>\n",
       "      <td>169.973155</td>\n",
       "      <td>227.442595</td>\n",
       "    </tr>\n",
       "    <tr>\n",
       "      <th>voicemail</th>\n",
       "      <td>27.0</td>\n",
       "      <td>159.073841</td>\n",
       "      <td>53.833422</td>\n",
       "      <td>72.779644</td>\n",
       "      <td>118.444467</td>\n",
       "      <td>172.219221</td>\n",
       "      <td>195.071192</td>\n",
       "      <td>264.422909</td>\n",
       "    </tr>\n",
       "  </tbody>\n",
       "</table>\n",
       "</div>"
      ],
      "text/plain": [
       "           count        mean        std        min         25%         50%  \\\n",
       "network                                                                      \n",
       "Meteor      87.0  139.757012  46.886445  21.456720  110.748469  134.089250   \n",
       "Tesco       84.0  145.287504  47.187879  42.387325  112.281929  146.733204   \n",
       "Three      215.0  141.457941  44.744397  14.173899  111.054649  142.534191   \n",
       "Vodafone   215.0  149.606272  46.912294  43.247843  111.652249  149.709940   \n",
       "data       150.0  140.968643  41.417421   0.993514  119.070227  143.303965   \n",
       "landline    42.0  141.617641  46.278411  36.796316  116.794170  131.949186   \n",
       "voicemail   27.0  159.073841  53.833422  72.779644  118.444467  172.219221   \n",
       "\n",
       "                  75%         max  \n",
       "network                            \n",
       "Meteor     173.984727  249.265924  \n",
       "Tesco      177.504493  268.443922  \n",
       "Three      173.638137  260.813244  \n",
       "Vodafone   183.478712  268.343460  \n",
       "data       166.027534  268.458090  \n",
       "landline   169.973155  227.442595  \n",
       "voicemail  195.071192  264.422909  "
      ]
     },
     "execution_count": 40,
     "metadata": {},
     "output_type": "execute_result"
    }
   ],
   "source": [
    "df.groupby('network')['duration'].describe()"
   ]
  },
  {
   "cell_type": "code",
   "execution_count": 41,
   "id": "a2f1ba7f",
   "metadata": {},
   "outputs": [],
   "source": [
    "alpha=0.05\n",
    "Meteor = df[df.network=='Meteor']['duration']\n",
    "Tesco = df[df.network=='Tesco']['duration']\n",
    "Three = df[df.network=='Three']['duration']\n",
    "Vodafone = df[df.network=='Vodafone']['duration']\n",
    "data = df[df.network=='data']['duration']\n",
    "landline = df[df.network=='landline']['duration']\n",
    "voicemail = df[df.network=='voicemail']['duration']"
   ]
  },
  {
   "cell_type": "code",
   "execution_count": 42,
   "id": "711a6124",
   "metadata": {},
   "outputs": [
    {
     "data": {
      "text/plain": [
       "F_onewayResult(statistic=1.0963813524629218, pvalue=0.3579913400075824)"
      ]
     },
     "execution_count": 42,
     "metadata": {},
     "output_type": "execute_result"
    }
   ],
   "source": [
    "st.f_oneway(Meteor,Tesco,data,landline,voicemail)"
   ]
  },
  {
   "cell_type": "code",
   "execution_count": 43,
   "id": "16183817",
   "metadata": {},
   "outputs": [
    {
     "data": {
      "image/png": "[encoded data removed]",
      "text/plain": [
       "<Figure size 432x288 with 1 Axes>"
      ]
     },
     "metadata": {
      "needs_background": "light"
     },
     "output_type": "display_data"
    }
   ],
   "source": [
    "sns.boxplot(df.network,df.duration)\n",
    "plt.show()"
   ]
  },
  {
   "cell_type": "code",
   "execution_count": 44,
   "id": "3e305045",
   "metadata": {},
   "outputs": [],
   "source": [
    "# Duration mean for all the networks is near 150.Therefore we can say that the data is equally distributed."
   ]
  },
  {
   "cell_type": "markdown",
   "id": "d75a1689",
   "metadata": {},
   "source": [
    "### d) Perform statistical tests to identify the relation between item and duration. Detailed explanation of relation between the classes is required."
   ]
  },
  {
   "cell_type": "code",
   "execution_count": 45,
   "id": "a99d89c5",
   "metadata": {},
   "outputs": [
    {
     "data": {
      "text/plain": [
       "call    388\n",
       "sms     282\n",
       "data    150\n",
       "Name: item, dtype: int64"
      ]
     },
     "execution_count": 45,
     "metadata": {},
     "output_type": "execute_result"
    }
   ],
   "source": [
    "df['item'].value_counts() #cateogrical "
   ]
  },
  {
   "cell_type": "code",
   "execution_count": 46,
   "id": "ef7ce78f",
   "metadata": {},
   "outputs": [
    {
     "data": {
      "text/plain": [
       "144.30493555983546"
      ]
     },
     "execution_count": 46,
     "metadata": {},
     "output_type": "execute_result"
    }
   ],
   "source": [
    "df['duration'].mean()"
   ]
  },
  {
   "cell_type": "code",
   "execution_count": 47,
   "id": "7d4c0093",
   "metadata": {},
   "outputs": [
    {
     "data": {
      "text/plain": [
       "3.0092072786430544"
      ]
     },
     "execution_count": 47,
     "metadata": {},
     "output_type": "execute_result"
    }
   ],
   "source": [
    "crit_f= st.f.isf(0.05, dfn=2,dfd=668)\n",
    "crit_f"
   ]
  },
  {
   "cell_type": "code",
   "execution_count": 48,
   "id": "651d46bc",
   "metadata": {},
   "outputs": [
    {
     "data": {
      "text/plain": [
       "1.9313964906864995"
      ]
     },
     "execution_count": 48,
     "metadata": {},
     "output_type": "execute_result"
    }
   ],
   "source": [
    "test_stat, pvalue= st.f_oneway(df[df['item']=='call']['duration'],\n",
    "                                 df[df['item']=='sms']['duration'],\n",
    "                                 df[df['item']=='data']['duration'])\n",
    "test_stat"
   ]
  },
  {
   "cell_type": "code",
   "execution_count": 49,
   "id": "679303dc",
   "metadata": {},
   "outputs": [],
   "source": [
    "# test_stat<crit_f, we fail to reject the null"
   ]
  },
  {
   "cell_type": "markdown",
   "id": "d6eb1cb7",
   "metadata": {},
   "source": [
    "### e) Perform statistical tests to identify the relation between network and network type."
   ]
  },
  {
   "cell_type": "code",
   "execution_count": 50,
   "id": "3f5d275e",
   "metadata": {},
   "outputs": [
    {
     "data": {
      "text/html": [
       "<div>\n",
       "<style scoped>\n",
       "    .dataframe tbody tr th:only-of-type {\n",
       "        vertical-align: middle;\n",
       "    }\n",
       "\n",
       "    .dataframe tbody tr th {\n",
       "        vertical-align: top;\n",
       "    }\n",
       "\n",
       "    .dataframe thead th {\n",
       "        text-align: right;\n",
       "    }\n",
       "</style>\n",
       "<table border=\"1\" class=\"dataframe\">\n",
       "  <thead>\n",
       "    <tr style=\"text-align: right;\">\n",
       "      <th>network_type</th>\n",
       "      <th>data</th>\n",
       "      <th>landline</th>\n",
       "      <th>mobile</th>\n",
       "      <th>voicemail</th>\n",
       "    </tr>\n",
       "    <tr>\n",
       "      <th>network</th>\n",
       "      <th></th>\n",
       "      <th></th>\n",
       "      <th></th>\n",
       "      <th></th>\n",
       "    </tr>\n",
       "  </thead>\n",
       "  <tbody>\n",
       "    <tr>\n",
       "      <th>Meteor</th>\n",
       "      <td>0</td>\n",
       "      <td>0</td>\n",
       "      <td>87</td>\n",
       "      <td>0</td>\n",
       "    </tr>\n",
       "    <tr>\n",
       "      <th>Tesco</th>\n",
       "      <td>0</td>\n",
       "      <td>0</td>\n",
       "      <td>84</td>\n",
       "      <td>0</td>\n",
       "    </tr>\n",
       "    <tr>\n",
       "      <th>Three</th>\n",
       "      <td>0</td>\n",
       "      <td>0</td>\n",
       "      <td>215</td>\n",
       "      <td>0</td>\n",
       "    </tr>\n",
       "    <tr>\n",
       "      <th>Vodafone</th>\n",
       "      <td>0</td>\n",
       "      <td>0</td>\n",
       "      <td>215</td>\n",
       "      <td>0</td>\n",
       "    </tr>\n",
       "    <tr>\n",
       "      <th>data</th>\n",
       "      <td>150</td>\n",
       "      <td>0</td>\n",
       "      <td>0</td>\n",
       "      <td>0</td>\n",
       "    </tr>\n",
       "    <tr>\n",
       "      <th>landline</th>\n",
       "      <td>0</td>\n",
       "      <td>42</td>\n",
       "      <td>0</td>\n",
       "      <td>0</td>\n",
       "    </tr>\n",
       "    <tr>\n",
       "      <th>voicemail</th>\n",
       "      <td>0</td>\n",
       "      <td>0</td>\n",
       "      <td>0</td>\n",
       "      <td>27</td>\n",
       "    </tr>\n",
       "  </tbody>\n",
       "</table>\n",
       "</div>"
      ],
      "text/plain": [
       "network_type  data  landline  mobile  voicemail\n",
       "network                                        \n",
       "Meteor           0         0      87          0\n",
       "Tesco            0         0      84          0\n",
       "Three            0         0     215          0\n",
       "Vodafone         0         0     215          0\n",
       "data           150         0       0          0\n",
       "landline         0        42       0          0\n",
       "voicemail        0         0       0         27"
      ]
     },
     "execution_count": 50,
     "metadata": {},
     "output_type": "execute_result"
    }
   ],
   "source": [
    "table = pd.crosstab(df.network,df.network_type)\n",
    "table"
   ]
  },
  {
   "cell_type": "code",
   "execution_count": 51,
   "id": "c88fdc77",
   "metadata": {},
   "outputs": [
    {
     "data": {
      "text/plain": [
       "(2460.0,\n",
       " 0.0,\n",
       " 18,\n",
       " array([[ 15.91463415,   4.45609756,  63.76463415,   2.86463415],\n",
       "        [ 15.36585366,   4.30243902,  61.56585366,   2.76585366],\n",
       "        [ 39.32926829,  11.01219512, 157.57926829,   7.07926829],\n",
       "        [ 39.32926829,  11.01219512, 157.57926829,   7.07926829],\n",
       "        [ 27.43902439,   7.68292683, 109.93902439,   4.93902439],\n",
       "        [  7.68292683,   2.15121951,  30.78292683,   1.38292683],\n",
       "        [  4.93902439,   1.38292683,  19.78902439,   0.88902439]]))"
      ]
     },
     "execution_count": 51,
     "metadata": {},
     "output_type": "execute_result"
    }
   ],
   "source": [
    "st.chi2_contingency(table)"
   ]
  },
  {
   "cell_type": "code",
   "execution_count": 52,
   "id": "9d42cb08",
   "metadata": {},
   "outputs": [
    {
     "data": {
      "text/plain": [
       "28.869299430392637"
      ]
     },
     "execution_count": 52,
     "metadata": {},
     "output_type": "execute_result"
    }
   ],
   "source": [
    "st.chi2.isf(0.05,18)"
   ]
  },
  {
   "cell_type": "code",
   "execution_count": 53,
   "id": "291936bd",
   "metadata": {},
   "outputs": [
    {
     "data": {
      "text/plain": [
       "0.0"
      ]
     },
     "execution_count": 53,
     "metadata": {},
     "output_type": "execute_result"
    }
   ],
   "source": [
    "st.chi2.sf(2460.0,18)"
   ]
  },
  {
   "cell_type": "code",
   "execution_count": 54,
   "id": "88305a93",
   "metadata": {},
   "outputs": [
    {
     "data": {
      "image/png": "[encoded data removed]",
      "text/plain": [
       "<Figure size 432x288 with 1 Axes>"
      ]
     },
     "metadata": {
      "needs_background": "light"
     },
     "output_type": "display_data"
    }
   ],
   "source": [
    "pd.crosstab(df['network'] , df['network_type']).plot(kind= 'bar' ,stacked = True )\n",
    "plt.show()"
   ]
  },
  {
   "cell_type": "markdown",
   "id": "b0ca5cee",
   "metadata": {},
   "source": [
    "#### Note :\n",
    "#### 1) Perform all the statistical analysis with 5%(Significance Level).\n",
    "#### 2) Perform the test of normality and test of variance in the appropriate places."
   ]
  }
 ],
 "metadata": {
  "kernelspec": {
   "display_name": "Python 3",
   "language": "python",
   "name": "python3"
  },
  "language_info": {
   "codemirror_mode": {
    "name": "ipython",
    "version": 3
   },
   "file_extension": ".py",
   "mimetype": "text/x-python",
   "name": "python",
   "nbconvert_exporter": "python",
   "pygments_lexer": "ipython3",
   "version": "3.8.8"
  }
 },
 "nbformat": 4,
 "nbformat_minor": 5
}
